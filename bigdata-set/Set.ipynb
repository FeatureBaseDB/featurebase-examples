{
 "cells": [
  {
   "cell_type": "code",
   "execution_count": 6,
   "id": "72de4437",
   "metadata": {},
   "outputs": [],
   "source": [
    "from featurebase import Client"
   ]
  },
  {
   "cell_type": "code",
   "execution_count": 93,
   "id": "ecb91026",
   "metadata": {},
   "outputs": [],
   "source": [
    "# data payload\n",
    "data = []\n",
    "\n",
    "# create client\n",
    "client = Client('0.0.0.0:20101', auth=None)\n",
    "for num in range(0,30):\n",
    "    query = client.querysql_future(\"select count(*) from allyourbase where draw_size = 21 and num_sets = %s;\" % num)\n",
    "    count = query.result()[0].get('count(*)')\n",
    "\n",
    "    data.append({\"num_sets\": num, \"count\": count})"
   ]
  },
  {
   "cell_type": "code",
   "execution_count": 94,
   "id": "2019492f",
   "metadata": {},
   "outputs": [
    {
     "name": "stdout",
     "output_type": "stream",
     "text": [
      "    num_sets  count\n",
      "0          0  11492\n",
      "1          1  51094\n",
      "2          2  92108\n",
      "3          3  96521\n",
      "4          4  64153\n",
      "5          5  28405\n",
      "6          6   8281\n",
      "7          7   1642\n",
      "8          8    256\n",
      "9          9     35\n",
      "10        10     13\n",
      "11        11      0\n",
      "12        12      0\n",
      "13        13      0\n",
      "14        14      0\n",
      "15        15      0\n",
      "16        16      0\n",
      "17        17      0\n",
      "18        18      0\n",
      "19        19      0\n",
      "20        20      0\n",
      "21        21      0\n",
      "22        22      0\n",
      "23        23      0\n",
      "24        24      0\n",
      "25        25      0\n",
      "26        26      0\n",
      "27        27      0\n",
      "28        28      0\n",
      "29        29      0\n"
     ]
    }
   ],
   "source": [
    "import pandas as pd\n",
    "print(pd.DataFrame(data))"
   ]
  },
  {
   "cell_type": "code",
   "execution_count": 95,
   "id": "c4601e25",
   "metadata": {},
   "outputs": [
    {
     "data": {
      "image/png": "[encoded data removed]",
      "text/plain": [
       "<Figure size 640x480 with 1 Axes>"
      ]
     },
     "metadata": {},
     "output_type": "display_data"
    }
   ],
   "source": [
    "import matplotlib.pyplot as plt\n",
    "import numpy as np\n",
    "\n",
    "height = []\n",
    "bars = []\n",
    "\n",
    "for d in data:\n",
    "    height.append(d.get('count'))\n",
    "    bars.append(d.get('num_sets'))\n",
    "\n",
    "# arrange\n",
    "y_pos = np.arange(len(bars))\n",
    "\n",
    "# create bars\n",
    "plt.bar(y_pos, height)\n",
    "\n",
    "# create names on the x-axis\n",
    "plt.xticks(y_pos, bars)\n",
    "plt.yscale(\"log\")\n",
    "\n",
    "# show graphic\n",
    "plt.show()"
   ]
  },
  {
   "cell_type": "code",
   "execution_count": null,
   "id": "56614f8f",
   "metadata": {},
   "outputs": [],
   "source": []
  },
  {
   "cell_type": "code",
   "execution_count": null,
   "id": "a34a1a12",
   "metadata": {},
   "outputs": [],
   "source": []
  }
 ],
 "metadata": {
  "kernelspec": {
   "display_name": "Python 3 (ipykernel)",
   "language": "python",
   "name": "python3"
  },
  "language_info": {
   "codemirror_mode": {
    "name": "ipython",
    "version": 3
   },
   "file_extension": ".py",
   "mimetype": "text/x-python",
   "name": "python",
   "nbconvert_exporter": "python",
   "pygments_lexer": "ipython3",
   "version": "3.10.8"
  }
 },
 "nbformat": 4,
 "nbformat_minor": 5
}
